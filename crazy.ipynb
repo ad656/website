{
 "cells": [
  {
   "cell_type": "markdown",
   "metadata": {},
   "source": [
    "# COGS 108 - Project Proposal"
   ]
  },
  {
   "cell_type": "markdown",
   "metadata": {},
   "source": [
    "# Names\n",
    "\n",
    "- Nicole Gong\n",
    "- Anastasia Meadows\n",
    "- Allan Dong\n",
    "- Frances Sy\n"
   ]
  },
  {
   "cell_type": "markdown",
   "metadata": {},
   "source": [
    "# Research Question"
   ]
  },
  {
   "cell_type": "markdown",
   "metadata": {},
   "source": [
    "- Include a specific, clear data science question.\n",
    "- Make sure what you're measuring (variables) to answer the question is clear\n",
    "\n",
    "This question should be specific, answerable with data, and clear. A general question with specific subquestions is permitted. (1-2 sentences). When we read this we should know clearly what your project will be about\n",
    "\n"
   ]
  },
  {
   "cell_type": "markdown",
   "metadata": {},
   "source": [
    "## Background and Prior Work"
   ]
  },
  {
   "cell_type": "markdown",
   "metadata": {},
   "source": [
    "\n",
    "Car insurers consider age to be one of their largest liabilities. For this reason, premium rates depend on age, decreasing annually until age 75, where they increase by about 4%[^1]. Likewise, insurance premium rates increase significantly after an accident where the driver is at fault. In order to explore which of these two liabilities insurers weigh more, we’ve decided to analyze how insurance rates increase after an accident for both younger and older drivers. \n",
    "\n",
    "In our project, we’ve chosen to analyze premium rates of those under 25 and over 75 without regard to individual ages within those groups. At age 25, insurance rate decreases become less frequent and severe. According to Progressive, starting at age 19, insurance rates decrease between 12-13% every year until age 25, where they decrease about 6% within the next five years (Progressive). As aforementioned, these rates continue to decrease until age 75 and up. While we have data for standard insurance rates based on age, we could only find generalized statistics for how much they increase after an accident. On average, full coverage rates increase by 42% and minimum coverage rates increase 44% (Bankrate, 2024). Because all policies inform this data, we want to determine if the increase in after-accident rates is proportional to increases based on other liabilities, specifically age. \n",
    "\n",
    "A similar project by user rjsaito on GitHub sought to predict an accurate insurance model based on the policy holder’s information, including their age. They categorize age by group and align them on a scale of 1 through 6, with 1 being the youngest drivers and 6 being the oldest. This project measured a variety of variables besides age, and they found the best predictive model for premium rates is frequency of accidents times severity of accidents. They also concluded that the two age groups with the most claims are groups 1 and 6, the youngest and oldest. The oldest group still has significantly fewer accidents than the youngest. This confirms the suspicions that inform our driving question. And because younger drivers cause more accidents, we can assume based on their model that their premiums are higher. However, we are still concerned that amongst younger and older drivers with the same frequency and severity of accidents, younger drivers’ rates increase disproportionately. With this project's findings in our minds, we will explore if after-accident rates are applied fairly amongst age demographics. \n",
    "\n",
    "**[^1]** Example footnote. Will add them all after today's meeting. \n"
   ]
  },
  {
   "cell_type": "markdown",
   "metadata": {},
   "source": [
    "# Hypothesis\n"
   ]
  },
  {
   "cell_type": "markdown",
   "metadata": {},
   "source": [
    "- Put your hypothesis here, this is different than your question. This what you think the answer will be \n",
    "- Ensure that this hypothesis is clear to readers\n",
    "- Explain why you think this will be the outcome (what was your thinking?)\n",
    "\n",
    "If your question is \"What is the association between X and Y\" then a hypothesis might be \"We predict a strong correlation between X and Y\" or you might predict no correlation or any other possible relationship. Briefly explain your thinking. (2-3 sentences)"
   ]
  },
  {
   "cell_type": "markdown",
   "metadata": {},
   "source": [
    "### Variables\n",
    "\n",
    "- Insurance Premium Rate (Before and After Accident): The cost of insurance premiums both before and after an accident for drivers under 25 and over 75.\n",
    "- Age Group: Categorical variable indicating whether the driver is in the Under 25 or Over 75 age group.\n",
    "- Accident History: Number of Accidents, Accident Severity, At-Fault Status.\n",
    "- State: California\n",
    "- Other Potential Variables: Car Model, Driving Experience: A measure of how long the driver has held a license, which could provide additional context within the Under 25 age group. Policy Details: Specifics about the policy terms, which could influence the rate of increase after an accident.\n",
    "\n",
    "### Data Storage\n",
    "\n",
    "- The data could be stored in a table format (e.g., CSV) with each variable represented as a column.\n",
    "\n",
    "### Observation\n",
    "- Observation Type: Each observation would represent an individual driver’s insurance profile, accident history, and premium data.\n",
    "- Total Observations: Ideally, this dataset would include thousands of drivers across California, with roughly equal representation of both the under 25 and over 75 age groups.\n",
    "- Time Period: Data should ideally be gathered over a multi-year period (e.g., 1–2 years centered around 2022) to capture insurance rate trends before and after accidents.\n",
    "\n",
    "### Collecting Methods\n",
    "- Ensure both age groups have similar data quality, accident details, and at-fault status information to avoid biases in rate changes by age.\n",
    "- Stratify data by severity and coverage type to control for these factors when analyzing the differences in rate increases by age group.\n"
   ]
  },
  {
   "cell_type": "markdown",
   "metadata": {},
   "source": [
    "# Ethics & Privacy"
   ]
  },
  {
   "cell_type": "markdown",
   "metadata": {},
   "source": [
    "- Thoughtful discussion of ethical concerns included.\n",
    "- Ethical concerns consider the whole data science process (question asked, data collected, data being used, the bias in data, analysis, post-analysis, etc.)\n",
    "- How your group handled bias/ethical concerns clearly described.\n",
    "\n",
    "Acknowledge and address any ethics & privacy related issues of your question(s), proposed dataset(s), and/or analyses. Use the information provided in lecture to guide your group discussion and thinking. If you need further guidance, check out [Deon's Ethics Checklist](http://deon.drivendata.org/#data-science-ethics-checklist). In particular:\n",
    "\n",
    "- Are there any biases/privacy/terms of use issues with the data you proposed?\n",
    "- Are there potential biases in your dataset(s), in terms of who it composes, and how it was collected, that may be problematic in terms of it allowing for equitable analysis? (For example, does your data exclude particular populations, or is it likely to reflect particular human biases in a way that could be a problem?)\n",
    "- How will you set out to detect these specific biases before, during, and after/when communicating your analysis?\n",
    "- Are there any other issues related to your topic area, data, and/or analyses that are potentially problematic in terms of data privacy and equitable impact?\n",
    "- How will you handle issues you identified?"
   ]
  },
  {
   "cell_type": "markdown",
   "metadata": {},
   "source": [
    "# Team Expectations "
   ]
  },
  {
   "cell_type": "markdown",
   "metadata": {},
   "source": [
    "\n",
    "Read over the [COGS108 Team Policies](https://github.com/COGS108/Projects/blob/master/COGS108_TeamPolicies.md) individually. Then, include your group’s expectations of one another for successful completion of your COGS108 project below. Discuss and agree on what all of your expectations are. Discuss how your team will communicate throughout the quarter and consider how you will communicate respectfully should conflicts arise. By including each member’s name above and by adding their name to the submission, you are indicating that you have read the COGS108 Team Policies, accept your team’s expectations below, and have every intention to fulfill them. These expectations are for your team’s use and benefit — they won’t be graded for their details.\n",
    "\n",
    "* *Team Expectation 1*\n",
    "* *Team Expectation
